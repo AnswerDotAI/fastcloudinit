{
 "cells": [
  {
   "cell_type": "code",
   "execution_count": null,
   "id": "678078c8",
   "metadata": {},
   "outputs": [],
   "source": [
    "#| default_exp core"
   ]
  },
  {
   "cell_type": "markdown",
   "id": "66b8990d",
   "metadata": {},
   "source": [
    "# API\n",
    "- Implementation of fastcloudinit"
   ]
  },
  {
   "cell_type": "code",
   "execution_count": null,
   "id": "1e8b385b",
   "metadata": {},
   "outputs": [],
   "source": [
    "#| export\n",
    "from fastcore.utils import *\n",
    "import fastcore.xtras, yaml\n",
    "from textwrap import dedent"
   ]
  },
  {
   "cell_type": "code",
   "execution_count": null,
   "id": "e6d45b48",
   "metadata": {},
   "outputs": [],
   "source": [
    "#| export\n",
    "def ufw(logging=\"off\", def_incoming=\"deny\", def_outgoing=\"allow\", internal=None, **allows):\n",
    "    rules = [dict(name=k, rule=\"allow\", port=v) for k,v in allows.items()]\n",
    "    if internal: rules.append(dict(interface=internal, rule=\"allow\", direction=\"in\"))\n",
    "    defaults=dict(incoming=def_incoming, outgoing=def_outgoing)\n",
    "    res = dict(enabled=True, logging=logging, defaults=defaults, rules=rules)\n",
    "    return dict(ufw=res)"
   ]
  },
  {
   "cell_type": "code",
   "execution_count": null,
   "id": "1ce9a5f5",
   "metadata": {},
   "outputs": [
    {
     "data": {
      "text/plain": [
       "{'ufw': {'enabled': True,\n",
       "  'logging': 'off',\n",
       "  'defaults': {'incoming': 'deny', 'outgoing': 'allow'},\n",
       "  'rules': [{'name': 'OpenSSH', 'rule': 'allow', 'port': 22},\n",
       "   {'interface': 'enp7s0', 'rule': 'allow', 'direction': 'in'}]}}"
      ]
     },
     "execution_count": null,
     "metadata": {},
     "output_type": "execute_result"
    }
   ],
   "source": [
    "ufw(internal=\"enp7s0\", OpenSSH=22)"
   ]
  },
  {
   "cell_type": "code",
   "execution_count": null,
   "id": "8190805f",
   "metadata": {},
   "outputs": [],
   "source": [
    "#| export\n",
    "def user(name, pub_key, groups=None, shell=\"/bin/bash\", sudo=True):\n",
    "    groups = listify(groups)\n",
    "    if sudo and 'sudo' not in groups: groups.append('sudo')\n",
    "    sudo = [\"ALL=(ALL) NOPASSWD:ALL\"] if sudo else []\n",
    "    return dict(name=name, groups=groups, shell=shell, sudo=sudo, ssh_authorized_keys=[pub_key])"
   ]
  },
  {
   "cell_type": "code",
   "execution_count": null,
   "id": "114db526",
   "metadata": {},
   "outputs": [
    {
     "data": {
      "text/plain": [
       "{'name': 'jph',\n",
       " 'groups': ['docker', 'sudo'],\n",
       " 'shell': '/bin/bash',\n",
       " 'sudo': ['ALL=(ALL) NOPASSWD:ALL'],\n",
       " 'ssh_authorized_keys': ['mykey']}"
      ]
     },
     "execution_count": null,
     "metadata": {},
     "output_type": "execute_result"
    }
   ],
   "source": [
    "user('jph', 'mykey', 'docker')"
   ]
  },
  {
   "cell_type": "code",
   "execution_count": null,
   "id": "8071e948",
   "metadata": {},
   "outputs": [],
   "source": [
    "#| export\n",
    "def source(url, keyid, keyserver):\n",
    "    return dict(source=f\"deb [signed-by=$KEY_FILE] {url} $RELEASE stable\", keyid=keyid, keyserver=keyserver)"
   ]
  },
  {
   "cell_type": "code",
   "execution_count": null,
   "id": "fb26ba51",
   "metadata": {},
   "outputs": [
    {
     "data": {
      "text/plain": [
       "{'source': 'deb [signed-by=$KEY_FILE] https://download.docker.com/linux/ubuntu $RELEASE stable',\n",
       " 'keyid': '9DC858229FC7DD38854AE2D88D81803C0EBFCD88',\n",
       " 'keyserver': 'https://download.docker.com/linux/ubuntu/gpg'}"
      ]
     },
     "execution_count": null,
     "metadata": {},
     "output_type": "execute_result"
    }
   ],
   "source": [
    "dsource = source(\"https://download.docker.com/linux/ubuntu\",\n",
    "                 keyid=\"9DC858229FC7DD38854AE2D88D81803C0EBFCD88\",\n",
    "                 keyserver=\"https://download.docker.com/linux/ubuntu/gpg\")\n",
    "dsource"
   ]
  },
  {
   "cell_type": "code",
   "execution_count": null,
   "id": "52344e1a",
   "metadata": {},
   "outputs": [],
   "source": [
    "#| export\n",
    "def apt(unattended=False, autoclean=30, email='', auto_reboot=False, **sources):\n",
    "    unattended = \"1\" if unattended else \"0\"\n",
    "    auto_reboot = \"true\" if auto_reboot else \"false\"\n",
    "    apt_conf = f\"\"\"\\\n",
    "APT::Periodic::Update-Package-Lists \"1\";\n",
    "APT::Periodic::Download-Upgradeable-Packages \"1\";\n",
    "APT::Periodic::AutocleanInterval \"7\";\n",
    "APT::Periodic::Unattended-Upgrade \"{unattended}\";\n",
    "Unattended-Upgrade::Automatic-Reboot \"{auto_reboot}\";\n",
    "\"\"\"\n",
    "    if email: apt_conf += 'Unattended-Upgrade::Mail \"{email}\";\\n'\n",
    "    res = dict(conf=apt_conf)\n",
    "    if sources: res['sources'] = sources\n",
    "    return dict(apt=res)"
   ]
  },
  {
   "cell_type": "code",
   "execution_count": null,
   "id": "59253216",
   "metadata": {},
   "outputs": [
    {
     "data": {
      "text/plain": [
       "{'apt': {'conf': 'APT::Periodic::Update-Package-Lists \"1\";\\nAPT::Periodic::Download-Upgradeable-Packages \"1\";\\nAPT::Periodic::AutocleanInterval \"7\";\\nAPT::Periodic::Unattended-Upgrade \"0\";\\nUnattended-Upgrade::Automatic-Reboot \"false\";\\n',\n",
       "  'sources': {'docker': {'source': 'deb [signed-by=$KEY_FILE] https://download.docker.com/linux/ubuntu $RELEASE stable',\n",
       "    'keyid': '9DC858229FC7DD38854AE2D88D81803C0EBFCD88',\n",
       "    'keyserver': 'https://download.docker.com/linux/ubuntu/gpg'}}}}"
      ]
     },
     "execution_count": null,
     "metadata": {},
     "output_type": "execute_result"
    }
   ],
   "source": [
    "apt(docker=dsource)"
   ]
  },
  {
   "cell_type": "code",
   "execution_count": null,
   "id": "bfd8068d",
   "metadata": {},
   "outputs": [],
   "source": [
    "#| export\n",
    "def systemd(items):\n",
    "    units = [dict(name=k, dropin=True, content=v) for k,v in items.items()]\n",
    "    return dict(systemd=dict(units=units))"
   ]
  },
  {
   "cell_type": "code",
   "execution_count": null,
   "id": "eb379c70",
   "metadata": {},
   "outputs": [
    {
     "data": {
      "text/plain": [
       "{'systemd': {'units': [{'name': 'systemd-journald.service',\n",
       "    'dropin': True,\n",
       "    'content': '[Journal]\\nSystemMaxUse=50M\\n'}]}}"
      ]
     },
     "execution_count": null,
     "metadata": {},
     "output_type": "execute_result"
    }
   ],
   "source": [
    "systemd({\"systemd-journald.service\":\"[Journal]\\nSystemMaxUse=50M\\n\"})"
   ]
  },
  {
   "cell_type": "code",
   "execution_count": null,
   "id": "540033bf",
   "metadata": {},
   "outputs": [],
   "source": [
    "#| export\n",
    "def log_rotate(freq=\"weekly\", num_keep=7, fname=\"00-cloud-init-global\"):\n",
    "    snippet = f\"\"\"\\\n",
    "/var/log/*.log {{\n",
    "    {freq}\n",
    "    rotate {num_keep}\n",
    "    compress\n",
    "    su root adm\n",
    "    create\n",
    "    missingok\n",
    "}}\n",
    "\"\"\"\n",
    "    return dict(path=f\"/etc/logrotate.d/{fname}\", owner=\"root:root\", permissions=\"0644\", content=snippet)"
   ]
  },
  {
   "cell_type": "code",
   "execution_count": null,
   "id": "c6e97ce5",
   "metadata": {},
   "outputs": [],
   "source": [
    "#| export\n",
    "def phone_home(url):\n",
    "    if not url: return {}\n",
    "    res = dict(url=url, post=[\"instance_id\", \"hostname\"], tries=5)\n",
    "    return dict(phone_home=res)"
   ]
  },
  {
   "cell_type": "code",
   "execution_count": null,
   "id": "62581625",
   "metadata": {},
   "outputs": [],
   "source": [
    "#| export\n",
    "def reboot(enable=True, message=\"Rebooting\"):\n",
    "    if not enable: return {}\n",
    "    return dict(power_state=dict( mode=\"reboot\", message=message, timeout=1, condition=True))"
   ]
  },
  {
   "cell_type": "code",
   "execution_count": null,
   "id": "5d65c3a3",
   "metadata": {},
   "outputs": [],
   "source": [
    "#| export\n",
    "def mounts(devices):\n",
    "    if not devices: return {}\n",
    "    return dict(mounts=devices)"
   ]
  },
  {
   "cell_type": "code",
   "execution_count": null,
   "id": "5ab7ba9e",
   "metadata": {},
   "outputs": [],
   "source": [
    "#| export\n",
    "def cloud_init_config(hostname, username, ssh_pub_key, email='',\n",
    "                      devices=None, ping_host=None, packages=None, **sources):\n",
    "    cfg = dict(\n",
    "        hostname=hostname, preserve_hostname=False,\n",
    "        users=[user(username, ssh_pub_key, groups=\"docker\")],\n",
    "        packages=listify(packages), package_update=True, package_upgrade=True,\n",
    "        disable_root=True, ssh_pwauth=False,\n",
    "        **ufw(internal=\"enp7s0\", OpenSSH=22),\n",
    "        **apt(**sources),\n",
    "        **systemd({\"systemd-journald.service\":\"[Journal]\\nSystemMaxUse=250M\\n\"}),\n",
    "        write_files=[ log_rotate() ],\n",
    "        **mounts(devices),\n",
    "        **phone_home(ping_host),\n",
    "        **reboot(),\n",
    "    )\n",
    "    return \"#cloud-config\\n\" + yaml.safe_dump(cfg, sort_keys=False, width=1_000_000)"
   ]
  },
  {
   "cell_type": "code",
   "execution_count": null,
   "id": "995f39b0",
   "metadata": {},
   "outputs": [
    {
     "name": "stdout",
     "output_type": "stream",
     "text": [
      "#cloud-config\n",
      "hostname: myhost\n",
      "preserve_hostname: false\n",
      "users:\n",
      "- name: jph\n",
      "  groups:\n",
      "  - docker\n",
      "  - sudo\n",
      "  shell: /bin/bash\n",
      "  sudo:\n",
      "  - ALL=(ALL) NOPASSWD:ALL\n",
      "  ssh_authorized_keys:\n",
      "  - mykey\n",
      "packages:\n",
      "- unattended-upgrades\n",
      "- vim-nox\n",
      "- python3\n",
      "- rsync\n",
      "- ubuntu-drivers-common\n",
      "- python3-pip\n",
      "- ack\n",
      "- lsyncd\n",
      "- wget\n",
      "- bzip2\n",
      "- ca-certificates\n",
      "- git\n",
      "- build-essential\n",
      "- software-properties-common\n",
      "- curl\n",
      "- grep\n",
      "- sed\n",
      "- dpkg\n",
      "- tmux\n",
      "- less\n",
      "- htop\n",
      "- openssh-client\n",
      "- python-is-python3\n",
      "- python3-dev\n",
      "- cron\n",
      "- gnupg\n",
      "- docker-ce\n",
      "- docker-ce-cli\n",
      "- containerd.io\n",
      "- docker-buildx-plugin\n",
      "- docker-compose-plugin\n",
      "package_update: true\n",
      "package_upgrade: true\n",
      "disable_root: true\n",
      "ssh_pwauth: false\n",
      "ufw:\n",
      "  enabled: true\n",
      "  logging: 'off'\n",
      "  defaults:\n",
      "    incoming: deny\n",
      "    outgoing: allow\n",
      "  rules:\n",
      "  - name: OpenSSH\n",
      "    rule: allow\n",
      "    port: 22\n",
      "  - interface: enp7s0\n",
      "    rule: allow\n",
      "    direction: in\n",
      "apt:\n",
      "  conf: 'APT::Periodic::Update-Package-Lists \"1\";\n",
      "\n",
      "    APT::Periodic::Download-Upgradeable-Packages \"1\";\n",
      "\n",
      "    APT::Periodic::AutocleanInterval \"7\";\n",
      "\n",
      "    APT::Periodic::Unattended-Upgrade \"0\";\n",
      "\n",
      "    Unattended-Upgrade::Automatic-Reboot \"false\";\n",
      "\n",
      "    '\n",
      "  sources:\n",
      "    docker:\n",
      "      source: deb [signed-by=$KEY_FILE] https://download.docker.com/linux/ubuntu $RELEASE stable\n",
      "      keyid: 9DC858229FC7DD38854AE2D88D81803C0EBFCD88\n",
      "      keyserver: https://download.docker.com/linux/ubuntu/gpg\n",
      "systemd:\n",
      "  units:\n",
      "  - name: systemd-journald.service\n",
      "    dropin: true\n",
      "    content: '[Journal]\n",
      "\n",
      "      SystemMaxUse=250M\n",
      "\n",
      "      '\n",
      "write_files:\n",
      "- path: /etc/logrotate.d/00-cloud-init-global\n",
      "  owner: root:root\n",
      "  permissions: '0644'\n",
      "  content: \"/var/log/*.log {\\n    weekly\\n    rotate 7\\n    compress\\n    su root adm\\n    create\\n    missingok\\n}\\n\"\n",
      "mounts:\n",
      "- - mydevice\n",
      "  - /data\n",
      "  - ext4\n",
      "  - defaults,nofail\n",
      "  - '0'\n",
      "  - '0'\n",
      "phone_home:\n",
      "  url: https://ping.me\n",
      "  post:\n",
      "  - instance_id\n",
      "  - hostname\n",
      "  tries: 5\n",
      "power_state:\n",
      "  mode: reboot\n",
      "  message: Rebooting\n",
      "  timeout: 1\n",
      "  condition: true\n",
      "\n"
     ]
    }
   ],
   "source": [
    "packages = [ \"unattended-upgrades\", \"vim-nox\", \"python3\", \"rsync\", \"ubuntu-drivers-common\", \"python3-pip\", \"ack\", \"lsyncd\", \"wget\", \"bzip2\", \"ca-certificates\", \"git\", \"build-essential\", \"software-properties-common\", \"curl\", \"grep\", \"sed\", \"dpkg\", \"tmux\", \"less\", \"htop\", \"openssh-client\", \"python-is-python3\", \"python3-dev\", \"cron\", \"gnupg\", \"docker-ce\", \"docker-ce-cli\", \"containerd.io\", \"docker-buildx-plugin\", \"docker-compose-plugin\" ]\n",
    "\n",
    "dsource = source(\n",
    "    \"https://download.docker.com/linux/ubuntu\", \n",
    "    keyid=\"9DC858229FC7DD38854AE2D88D81803C0EBFCD88\", \n",
    "    keyserver=\"https://download.docker.com/linux/ubuntu/gpg\")\n",
    "devices = [ ['mydevice', \"/data\", \"ext4\", \"defaults,nofail\", \"0\", \"0\"] ]\n",
    "\n",
    "res = cloud_init_config('myhost', 'jph', 'mykey', 'j@answer.ai',\n",
    "                        devices=devices, ping_host='https://ping.me', packages=packages, docker=dsource)\n",
    "print(res)"
   ]
  },
  {
   "cell_type": "markdown",
   "id": "ad606199",
   "metadata": {},
   "source": [
    "## export -"
   ]
  },
  {
   "cell_type": "code",
   "execution_count": null,
   "id": "e05a5ad6",
   "metadata": {},
   "outputs": [],
   "source": [
    "#|hide\n",
    "from nbdev import nbdev_export\n",
    "nbdev_export()"
   ]
  },
  {
   "cell_type": "code",
   "execution_count": null,
   "id": "67c4286a",
   "metadata": {},
   "outputs": [],
   "source": []
  }
 ],
 "metadata": {
  "kernelspec": {
   "display_name": "python3",
   "language": "python",
   "name": "python3"
  }
 },
 "nbformat": 4,
 "nbformat_minor": 5
}
