{
 "cells": [
  {
   "cell_type": "code",
   "execution_count": null,
   "id": "678078c8",
   "metadata": {},
   "outputs": [],
   "source": [
    "#| default_exp core"
   ]
  },
  {
   "cell_type": "markdown",
   "id": "66b8990d",
   "metadata": {},
   "source": [
    "# API\n",
    "- Implementation of fastcloudinit"
   ]
  },
  {
   "cell_type": "code",
   "execution_count": null,
   "id": "1e8b385b",
   "metadata": {},
   "outputs": [],
   "source": [
    "#| export\n",
    "from fastcore.utils import *\n",
    "from textwrap import dedent\n",
    "from jsonschema import validate\n",
    "from httpx import get as xget\n",
    "\n",
    "import fastcore.xtras, yaml, json"
   ]
  },
  {
   "cell_type": "code",
   "execution_count": null,
   "id": "aa8f2efa",
   "metadata": {},
   "outputs": [],
   "source": [
    "from fastcore.test import test_eq,test_fail\n",
    "from jsonschema import ValidationError"
   ]
  },
  {
   "cell_type": "code",
   "execution_count": null,
   "id": "276cbc1e",
   "metadata": {},
   "outputs": [],
   "source": [
    "#| export\n",
    "def ufw(logging=\"off\", def_incoming=\"deny\", def_outgoing=\"allow\", internal=None, **allows):\n",
    "    cmds = [ f\"ufw default {def_incoming} incoming\", f\"ufw default {def_outgoing} outgoing\", f\"ufw logging {logging}\" ]\n",
    "    for name, port in allows.items(): cmds.append(\"ufw allow {}/tcp\".format(port))\n",
    "    if internal: cmds.append(\"ufw allow in on {}\".format(internal))\n",
    "    cmds.append(\"ufw --force enable\")\n",
    "    return cmds"
   ]
  },
  {
   "cell_type": "code",
   "execution_count": null,
   "id": "1ce9a5f5",
   "metadata": {},
   "outputs": [
    {
     "data": {
      "text/plain": [
       "['ufw default deny incoming',\n",
       " 'ufw default allow outgoing',\n",
       " 'ufw logging off',\n",
       " 'ufw allow 22/tcp',\n",
       " 'ufw allow in on enp7s0',\n",
       " 'ufw --force enable']"
      ]
     },
     "execution_count": null,
     "metadata": {},
     "output_type": "execute_result"
    }
   ],
   "source": [
    "ufw(internal=\"enp7s0\", OpenSSH=22)"
   ]
  },
  {
   "cell_type": "code",
   "execution_count": null,
   "id": "8190805f",
   "metadata": {},
   "outputs": [],
   "source": [
    "#| export\n",
    "def user(name, pub_keys, groups=None, shell=\"/bin/bash\", sudo=True):\n",
    "    groups = listify(groups)\n",
    "    if sudo and 'sudo' not in groups: groups.append('sudo')\n",
    "    sudo = [\"ALL=(ALL) NOPASSWD:ALL\"] if sudo else []\n",
    "    return dict(name=name, groups=groups, shell=shell, sudo=sudo, ssh_authorized_keys=listify(pub_keys))"
   ]
  },
  {
   "cell_type": "code",
   "execution_count": null,
   "id": "114db526",
   "metadata": {},
   "outputs": [
    {
     "data": {
      "text/plain": [
       "{'name': 'jph',\n",
       " 'groups': ['docker', 'sudo'],\n",
       " 'shell': '/bin/bash',\n",
       " 'sudo': ['ALL=(ALL) NOPASSWD:ALL'],\n",
       " 'ssh_authorized_keys': ['mykey']}"
      ]
     },
     "execution_count": null,
     "metadata": {},
     "output_type": "execute_result"
    }
   ],
   "source": [
    "user('jph', 'mykey', 'docker')"
   ]
  },
  {
   "cell_type": "code",
   "execution_count": null,
   "id": "8071e948",
   "metadata": {},
   "outputs": [],
   "source": [
    "#| export\n",
    "def source(url, keyid, keyserver):\n",
    "    return dict(source=f\"deb [signed-by=$KEY_FILE] {url} $RELEASE stable\", keyid=keyid, keyserver=keyserver)"
   ]
  },
  {
   "cell_type": "code",
   "execution_count": null,
   "id": "fb26ba51",
   "metadata": {},
   "outputs": [
    {
     "data": {
      "text/plain": [
       "{'source': 'deb [signed-by=$KEY_FILE] https://download.docker.com/linux/ubuntu $RELEASE stable',\n",
       " 'keyid': '9DC858229FC7DD38854AE2D88D81803C0EBFCD88',\n",
       " 'keyserver': 'https://download.docker.com/linux/ubuntu/gpg'}"
      ]
     },
     "execution_count": null,
     "metadata": {},
     "output_type": "execute_result"
    }
   ],
   "source": [
    "dsource = source(\"https://download.docker.com/linux/ubuntu\",\n",
    "                 keyid=\"9DC858229FC7DD38854AE2D88D81803C0EBFCD88\",\n",
    "                 keyserver=\"https://download.docker.com/linux/ubuntu/gpg\")\n",
    "dsource"
   ]
  },
  {
   "cell_type": "code",
   "execution_count": null,
   "id": "52344e1a",
   "metadata": {},
   "outputs": [],
   "source": [
    "#| export\n",
    "def apt(unattended=False, autoclean=30, email='', auto_reboot=False, **sources):\n",
    "    unattended = \"1\" if unattended else \"0\"\n",
    "    auto_reboot = \"true\" if auto_reboot else \"false\"\n",
    "    apt_conf = f\"\"\"\\\n",
    "APT::Periodic::Update-Package-Lists \"1\";\n",
    "APT::Periodic::Download-Upgradeable-Packages \"1\";\n",
    "APT::Periodic::AutocleanInterval \"7\";\n",
    "APT::Periodic::Unattended-Upgrade \"{unattended}\";\n",
    "Unattended-Upgrade::Automatic-Reboot \"{auto_reboot}\";\n",
    "\"\"\"\n",
    "    if email: apt_conf += 'Unattended-Upgrade::Mail \"{email}\";\\n'\n",
    "    res = dict(conf=apt_conf)\n",
    "    if sources: res['sources'] = sources\n",
    "    return dict(apt=res)"
   ]
  },
  {
   "cell_type": "code",
   "execution_count": null,
   "id": "59253216",
   "metadata": {},
   "outputs": [
    {
     "data": {
      "text/plain": [
       "{'apt': {'conf': 'APT::Periodic::Update-Package-Lists \"1\";\\nAPT::Periodic::Download-Upgradeable-Packages \"1\";\\nAPT::Periodic::AutocleanInterval \"7\";\\nAPT::Periodic::Unattended-Upgrade \"0\";\\nUnattended-Upgrade::Automatic-Reboot \"false\";\\n',\n",
       "  'sources': {'docker': {'source': 'deb [signed-by=$KEY_FILE] https://download.docker.com/linux/ubuntu $RELEASE stable',\n",
       "    'keyid': '9DC858229FC7DD38854AE2D88D81803C0EBFCD88',\n",
       "    'keyserver': 'https://download.docker.com/linux/ubuntu/gpg'}}}}"
      ]
     },
     "execution_count": null,
     "metadata": {},
     "output_type": "execute_result"
    }
   ],
   "source": [
    "apt(docker=dsource)"
   ]
  },
  {
   "cell_type": "code",
   "execution_count": null,
   "id": "51dbf4d1",
   "metadata": {},
   "outputs": [],
   "source": [
    "#| export\n",
    "def systemd(items):\n",
    "    return [\n",
    "        {'path': f\"/etc/systemd/system/{unit_name}.d/override.conf\", \n",
    "         'owner': 'root:root',  'permissions': '0644',  'content': content}\n",
    "        for unit_name, content in items.items()\n",
    "    ]"
   ]
  },
  {
   "cell_type": "code",
   "execution_count": null,
   "id": "eb379c70",
   "metadata": {},
   "outputs": [
    {
     "data": {
      "text/plain": [
       "[{'path': '/etc/systemd/system/systemd-journald.service.d/override.conf',\n",
       "  'owner': 'root:root',\n",
       "  'permissions': '0644',\n",
       "  'content': '[Journal]\\nSystemMaxUse=50M\\n'}]"
      ]
     },
     "execution_count": null,
     "metadata": {},
     "output_type": "execute_result"
    }
   ],
   "source": [
    "systemd({\"systemd-journald.service\":\"[Journal]\\nSystemMaxUse=50M\\n\"})"
   ]
  },
  {
   "cell_type": "code",
   "execution_count": null,
   "id": "540033bf",
   "metadata": {},
   "outputs": [],
   "source": [
    "#| export\n",
    "def log_rotate(freq=\"weekly\", num_keep=7, fname=\"00-cloud-init-global\"):\n",
    "    snippet = f\"\"\"\\\n",
    "/var/log/*.log {{\n",
    "    {freq}\n",
    "    rotate {num_keep}\n",
    "    compress\n",
    "    su root adm\n",
    "    create\n",
    "    missingok\n",
    "}}\n",
    "\"\"\"\n",
    "    return dict(path=f\"/etc/logrotate.d/{fname}\", owner=\"root:root\", permissions=\"0644\", content=snippet)"
   ]
  },
  {
   "cell_type": "code",
   "execution_count": null,
   "id": "c6e97ce5",
   "metadata": {},
   "outputs": [],
   "source": [
    "#| export\n",
    "def phone_home(url):\n",
    "    if not url: return {}\n",
    "    res = dict(url=url, post=[\"instance_id\", \"hostname\"], tries=5)\n",
    "    return dict(phone_home=res)"
   ]
  },
  {
   "cell_type": "code",
   "execution_count": null,
   "id": "62581625",
   "metadata": {},
   "outputs": [],
   "source": [
    "#| export\n",
    "def reboot(enable=True, message=\"Rebooting\"):\n",
    "    if not enable: return {}\n",
    "    return dict(power_state=dict( mode=\"reboot\", message=message, timeout=1, condition=True))"
   ]
  },
  {
   "cell_type": "code",
   "execution_count": null,
   "id": "5d65c3a3",
   "metadata": {},
   "outputs": [],
   "source": [
    "#| export\n",
    "def mounts(devices):\n",
    "    if not devices: return {}\n",
    "    return dict(mounts=devices)"
   ]
  },
  {
   "cell_type": "code",
   "execution_count": null,
   "id": "9905d396",
   "metadata": {},
   "outputs": [],
   "source": [
    "#| export\n",
    "def runcmd(cmds):\n",
    "    if not cmds: return {}\n",
    "    return dict(runcmd=cmds)"
   ]
  },
  {
   "cell_type": "code",
   "execution_count": null,
   "id": "0f608fa1",
   "metadata": {},
   "outputs": [],
   "source": [
    "#| export\n",
    "def cc_validate(d):\n",
    "    vsc = xget('https://raw.githubusercontent.com/canonical/cloud-init/main/cloudinit/config/schemas/versions.schema.cloud-config.json').text\n",
    "    validate(d, schema=json.loads(vsc))"
   ]
  },
  {
   "cell_type": "code",
   "execution_count": null,
   "id": "0646d7af",
   "metadata": {},
   "outputs": [],
   "source": [
    "samp = '''#cloud-config\n",
    "hostname: example-host\n",
    "fqdn: example-host.example.com\n",
    "# User setup configuration\n",
    "users:\n",
    "  - name: exampleuser\n",
    "    gecos: Example User\n",
    "    sudo: ['ALL=(ALL) NOPASSWD:ALL']'''\n",
    "cc_validate(yaml.safe_load(samp))"
   ]
  },
  {
   "cell_type": "markdown",
   "id": "ea5aa012",
   "metadata": {},
   "source": [
    "This example has an intentional key error (\"hostna\" instead of \"hostname\"):"
   ]
  },
  {
   "cell_type": "code",
   "execution_count": null,
   "id": "a8d9e3fd",
   "metadata": {},
   "outputs": [],
   "source": [
    "samp = '''#cloud-config\n",
    "hostna: example-host\n",
    "fqdn: example-host.example.com'''\n",
    "try: cc_validate(yaml.safe_load(samp))\n",
    "except ValidationError: pass\n",
    "else: raise Exception('Expected validation error')"
   ]
  },
  {
   "cell_type": "code",
   "execution_count": null,
   "id": "b5634371",
   "metadata": {},
   "outputs": [],
   "source": [
    "#| export\n",
    "def cloud_init_base(hostname, packages=None, check=True, **kw):\n",
    "    cfg = dict(\n",
    "        hostname=hostname, preserve_hostname=False,\n",
    "        packages=listify(packages), package_update=True, package_upgrade=True,\n",
    "        disable_root=True, ssh_pwauth=False, **kw\n",
    "    )\n",
    "    if check: cc_validate(cfg)\n",
    "    return \"#cloud-config\\n\" + yaml.safe_dump(cfg, sort_keys=False, width=1_000_000)"
   ]
  },
  {
   "cell_type": "code",
   "execution_count": null,
   "id": "cd7ccd28",
   "metadata": {},
   "outputs": [],
   "source": [
    "#| export\n",
    "def cloud_init_config(hostname, username, pub_keys, email='', groups=None, internal=None, cmds=None,\n",
    "                      devices=None, ping_host=None, packages=None, dropins=None, **sources):\n",
    "    cmds = listify(cmds)\n",
    "    cmds += ufw(internal=internal, OpenSSH=22)\n",
    "    return cloud_init_base(\n",
    "        hostname, packages=packages,\n",
    "        users=[user(username, pub_keys, groups=groups)],\n",
    "        **runcmd(cmds),\n",
    "        **apt(**sources),\n",
    "        write_files=[ log_rotate(), *systemd(dropins or {}) ],\n",
    "        **mounts(devices),\n",
    "        **phone_home(ping_host),\n",
    "        **reboot(),\n",
    "    )"
   ]
  },
  {
   "cell_type": "code",
   "execution_count": null,
   "id": "995f39b0",
   "metadata": {},
   "outputs": [
    {
     "name": "stdout",
     "output_type": "stream",
     "text": [
      "#cloud-config\n",
      "hostname: myhost\n",
      "preserve_hostname: \n"
     ]
    }
   ],
   "source": [
    "packages = [ \"unattended-upgrades\", \"vim-nox\", \"python3\", \"rsync\", \"ubuntu-drivers-common\", \"python3-pip\", \"ack\", \"lsyncd\", \"wget\", \"bzip2\", \"ca-certificates\", \"git\", \"build-essential\", \"software-properties-common\", \"curl\", \"grep\", \"sed\", \"dpkg\", \"tmux\", \"less\", \"htop\", \"openssh-client\", \"python-is-python3\", \"python3-dev\", \"cron\", \"gnupg\", \"docker-ce\", \"docker-ce-cli\", \"containerd.io\", \"docker-buildx-plugin\", \"docker-compose-plugin\" ]\n",
    "\n",
    "dsource = source(\n",
    "    \"https://download.docker.com/linux/ubuntu\", \n",
    "    keyid=\"9DC858229FC7DD38854AE2D88D81803C0EBFCD88\", \n",
    "    keyserver=\"https://download.docker.com/linux/ubuntu/gpg\")\n",
    "devices = [ ['mydevice', \"/data\", \"ext4\", \"defaults,nofail\", \"0\", \"0\"] ]\n",
    "dropins = {\"systemd-journald.service\":\"[Journal]\\nSystemMaxUse=250M\\n\"}\n",
    "\n",
    "res = cloud_init_config('myhost', 'jph', 'mykey', 'j@answer.ai', dropins=dropins, groups=\"docker\", internal=\"enp7s0\",\n",
    "                        devices=devices, ping_host='https://ping.me', packages=packages, docker=dsource)\n",
    "print(res[:50])"
   ]
  },
  {
   "cell_type": "markdown",
   "id": "ad606199",
   "metadata": {},
   "source": [
    "## export -"
   ]
  },
  {
   "cell_type": "code",
   "execution_count": null,
   "id": "e05a5ad6",
   "metadata": {},
   "outputs": [],
   "source": [
    "#|hide\n",
    "from nbdev import nbdev_export\n",
    "nbdev_export()"
   ]
  },
  {
   "cell_type": "code",
   "execution_count": null,
   "id": "67c4286a",
   "metadata": {},
   "outputs": [],
   "source": []
  }
 ],
 "metadata": {
  "kernelspec": {
   "display_name": "python3",
   "language": "python",
   "name": "python3"
  }
 },
 "nbformat": 4,
 "nbformat_minor": 5
}
